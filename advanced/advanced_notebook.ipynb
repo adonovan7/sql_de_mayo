{
 "cells": [
  {
   "cell_type": "markdown",
   "metadata": {},
   "source": [
    "## Advanced Notebook\n",
    "\n",
    "Congrats - you have made it to the advanced portion of the UCSB SQL Curriculum. By now, you should be familiar with querying up to joins and creating databases. This next section takes your SQL knowledge a level deeper, teaching you how to manipulate data and creating new columns based on your pre-existing attributes. Take a deep breath before you begin - this is going to be a long one!\n",
    "\n",
    "First off, let's start with subqueries. "
   ]
  },
  {
   "cell_type": "markdown",
   "metadata": {},
   "source": [
    "### What are subqueries?\n",
    "\n",
    "A subquery is a SQL statement that has another SQL query embedded in the clause. They may occur in:\n",
    "\n",
    "- A SELECT clause\n",
    "- A FROM clause\n",
    "- A WHERE clause\n",
    "\n",
    "The subquery can be nested inside a `SELECT`, `INSERT`, `UPDATE`, or `DELETE` statement or inside another subquery. A subquery is usually added within the WHERE Clause of another SQL SELECT statement.\n",
    "\n",
    "A general subquery from the Employees table can look like:\n",
    "\n",
    "![](img/subquery.png)\n",
    "\n",
    "You can use the comparison operators, such as >, <, or =. The comparison operator can also be a multiple-row operator, such as IN, ANY, or ALL. In this case, we are trying to narrow down the comparison in a subquery before applying it to the overall table.\n",
    "\n",
    "A subquery is also called an inner query or inner select, while the statement containing a subquery is also called an outer query or outer select. The inner query executes first before its parent query so that the results of an inner query can be passed to the outer query.\n",
    "\n",
    "You can use a subquery in a `SELECT`, `INSERT`, `DELETE`, or `UPDATE` statement to perform the following tasks:\n",
    "- Compare an expression to the result of the query\n",
    "- Determine if an expression is included in the results of the query\n",
    "- Check whether the query selects any rows\n",
    "\n",
    "Connect to the database depending on your operating system and let's begin!"
   ]
  },
  {
   "cell_type": "markdown",
   "metadata": {},
   "source": [
    "### Mac"
   ]
  },
  {
   "cell_type": "code",
   "execution_count": null,
   "metadata": {},
   "outputs": [],
   "source": [
    "-- connection: postgresql://localhost:5432/northwind"
   ]
  },
  {
   "cell_type": "markdown",
   "metadata": {},
   "source": [
    "### Windows"
   ]
  },
  {
   "cell_type": "code",
   "execution_count": null,
   "metadata": {},
   "outputs": [],
   "source": [
    "-- connection: host='localhost' dbname='northwind' user='postgres' password='postgres'"
   ]
  },
  {
   "cell_type": "markdown",
   "metadata": {},
   "source": [
    "### Let's begin!\n",
    "\n",
    "We'll start with a simple query. "
   ]
  },
  {
   "cell_type": "code",
   "execution_count": null,
   "metadata": {},
   "outputs": [],
   "source": [
    "SELECT CategoryId FROM Categories\n",
    "WHERE CategoryName = 'Seafood';"
   ]
  },
  {
   "cell_type": "markdown",
   "metadata": {},
   "source": [
    "We will use the output of this “SELECT” query (aka the sub-query) as the input for another “SELECT” query. Let's work with the Products table, which also has a CategoryID column."
   ]
  },
  {
   "cell_type": "code",
   "execution_count": null,
   "metadata": {},
   "outputs": [],
   "source": [
    "SELECT * FROM Products\n",
    "WHERE CategoryId =\n",
    "(SELECT CategoryId FROM Categories\n",
    "WHERE CategoryName = 'Seafood');"
   ]
  },
  {
   "cell_type": "markdown",
   "metadata": {},
   "source": [
    "Does the logic behind this query look familiar? \n",
    "\n",
    "We can also write these queries as table joins! Let's write the queries with a slightly different syntax."
   ]
  },
  {
   "cell_type": "code",
   "execution_count": null,
   "metadata": {},
   "outputs": [],
   "source": [
    "SELECT Products.*\n",
    "FROM Products, Categories\n",
    "WHERE Products.CategoryId = Categories.CategoryId\n",
    "AND CategoryName = 'Seafood';"
   ]
  },
  {
   "cell_type": "markdown",
   "metadata": {},
   "source": [
    "This implicit inner join outputs the same query as the subquery. We are pulling the same criteria from both tables and the only difference is the syntax! This is not the case for all subqueries, but an example of when subqueries can be useful."
   ]
  },
  {
   "cell_type": "markdown",
   "metadata": {},
   "source": [
    "### Subqueries for Comparison\n",
    "\n",
    "Sub-queries can also be used with other comparison operators >, <, >=, <=, etc.\n",
    "Starting with the inner query:"
   ]
  },
  {
   "cell_type": "code",
   "execution_count": null,
   "metadata": {},
   "outputs": [],
   "source": [
    "SELECT AVG(UnitPrice) FROM Products;"
   ]
  },
  {
   "cell_type": "markdown",
   "metadata": {},
   "source": [
    "This subquery returns a singular (scalar) value. So when we create the entire query, we are comparing against this one value."
   ]
  },
  {
   "cell_type": "code",
   "execution_count": null,
   "metadata": {},
   "outputs": [],
   "source": [
    "SELECT * FROM Products\n",
    "WHERE UnitPrice >\n",
    "(SELECT AVG(UnitPrice) FROM Products);"
   ]
  },
  {
   "cell_type": "markdown",
   "metadata": {},
   "source": [
    "This is a case where there is no equivalent table join format. "
   ]
  },
  {
   "cell_type": "markdown",
   "metadata": {},
   "source": [
    "### Multiple Subqueries \n",
    "\n",
    "We can continue to create deeper subqueries to draw in the information we need. Let's build this step-by-step.\n",
    "\n",
    "First, we'll create a simple query. "
   ]
  },
  {
   "cell_type": "code",
   "execution_count": null,
   "metadata": {},
   "outputs": [],
   "source": [
    "SELECT * FROM Employees \n",
    "WHERE title LIKE '%Sales%'; "
   ]
  },
  {
   "cell_type": "markdown",
   "metadata": {},
   "source": [
    "Say we want to build off this table and work with it. Then the syntax goes:\n",
    "\n",
    "```\n",
    "SELECT * FROM\n",
    "(SELECT * FROM inner_query) [AS] foo\n",
    "[Constraints]\n",
    "```\n",
    "\n",
    "We alias the table so that as we build on it, we can add further constraints on your query (i.e., `WHERE` clauses). Otherwise the database will not know how to refer to the subquery.\n",
    "\n",
    "Using the same simple query we created above, let's use a subquery to count how many sales representatives there are. "
   ]
  },
  {
   "cell_type": "code",
   "execution_count": null,
   "metadata": {},
   "outputs": [],
   "source": [
    "SELECT COUNT(title)\n",
    "FROM\n",
    "(SELECT * FROM Employees \n",
    "WHERE title LIKE '%Sales%') AS Employees \n",
    "WHERE title LIKE '%Rep%';"
   ]
  },
  {
   "cell_type": "markdown",
   "metadata": {},
   "source": [
    "Here's the catch - we know we can do this in one step. Can you write that query down below? "
   ]
  },
  {
   "cell_type": "code",
   "execution_count": null,
   "metadata": {},
   "outputs": [],
   "source": []
  },
  {
   "cell_type": "markdown",
   "metadata": {},
   "source": [
    "This is a quick example of what a nested subquery, but not one that was necessarily what we needed to answer our question. \n",
    "You will soon see why we need multiple layers of queries soon. But first, let's practice!\n",
    "\n",
    "### Extra Practice"
   ]
  },
  {
   "cell_type": "markdown",
   "metadata": {},
   "source": [
    "What are the units in stock from the Products table where the unit price is not equal to the max unit price from the Order Details table? \n",
    "\n",
    "**(Hint: Put the subquery in the `Where` clause.)**"
   ]
  },
  {
   "cell_type": "code",
   "execution_count": null,
   "metadata": {},
   "outputs": [],
   "source": []
  },
  {
   "cell_type": "markdown",
   "metadata": {},
   "source": [
    "Find all the columns in the Orders table where the CustomerID is equal to the contact name `Hanna Moos`. \n",
    "\n",
    "**(Hint: Use the Customers table to find the contact name and put it in the subquery.)**"
   ]
  },
  {
   "cell_type": "code",
   "execution_count": null,
   "metadata": {},
   "outputs": [],
   "source": []
  },
  {
   "cell_type": "markdown",
   "metadata": {},
   "source": [
    "Answer the same question as above using a join."
   ]
  },
  {
   "cell_type": "code",
   "execution_count": null,
   "metadata": {},
   "outputs": [],
   "source": []
  },
  {
   "cell_type": "markdown",
   "metadata": {},
   "source": [
    "### Window Functions\n",
    "\n",
    "Window functions are extremely powerful SQL commands that perform a calculation across a set of table rows that are somehow related to the current row. This is comparable to the type of calculation that can be done with an aggregate function. \n",
    "\n",
    "But unlike regular aggregate functions, use of a window function does not cause rows to become grouped into a single output row — the rows retain their separate identities. Behind the scenes, the window function is able to access more than just the current row of the query result.\n",
    "\n",
    "Window functions can be called in the SELECT statement or in the ORDER BY clause. However, they can never be called in the WHERE clause. You’ll notice that all the examples in this article call the window function in the SELECT column list.\n",
    "\n",
    "\n",
    "The basic syntax goes like:\n",
    "\n",
    "```\n",
    "SELECT\t\n",
    "\t\t[attributes],\n",
    "        WINDOW_FUNCTION() OVER (PARTITION BY attribute ORDER BY attribute DESC) \n",
    "\t\t\tAS alias\n",
    "FROM table_name;\n",
    "```\n"
   ]
  },
  {
   "cell_type": "markdown",
   "metadata": {},
   "source": [
    "Let's use an exerpt from the Employees table as our example.\n",
    "\n",
    "|employee_id|full_name| department | salary| \n",
    "|---|--- |---| --- |\n",
    "|100|Mary Johns| SALES |1000.00| \n",
    "|101|Sean Moldy| IT |1500.00| \n",
    "|102|Peter Dugan| SALES |2000.00|\n",
    "|103|Lilian Penn| SALES |1700.00|\n",
    "|104|Milton Kowarsky| IT |1800.00|\n",
    "|105|Mareen Bisset| ACCOUNTS |1200.00|\n",
    "|106|Airton Graue| ACCOUNTS |1100.00|"
   ]
  },
  {
   "cell_type": "markdown",
   "metadata": {},
   "source": [
    "Window functions start with RANK, which is one of the simplest window functions. It returns the position of any row inside the partition. Let’s use it to rank salaries within departments:\n",
    "\n",
    "```\n",
    "SELECT\t\n",
    "\t\temployee_id, \n",
    "\t\tfull_name, \n",
    "\t\tsalary,\n",
    "        department,\n",
    "        RANK() OVER (PARTITION BY department ORDER BY salary DESC) \n",
    "\t\t\tAS dept_ranking\t\n",
    "FROM Employee;\n",
    "```\n"
   ]
  },
  {
   "cell_type": "markdown",
   "metadata": {},
   "source": [
    "|employee_id|full_name| salary|department| dept_ranking |\n",
    "|---|--- |---| --- | ---|\n",
    "|105|Mareen Bisset| 1200.00| ACCOUNTS |1 |\n",
    "|106|Airton Graue| 1100.00| ACCOUNTS |2|\n",
    "|104|Milton Kowarsky| 1800.00| IT |1|\n",
    "|101|Sean Moldy| 1500.00| IT | 2|\n",
    "|102|Peter Dugan| 2000.00| SALES |1|\n",
    "|103|Lilian Penn| 1700.00 |SALES |2|\n",
    "|100|Mary Johns| 1000.00| SALES |3 | \n",
    "\n",
    "We have created a `dept_ranking` column that first groups the departments, and then ranks them based on salary. \n",
    "\n",
    "Now, let's run through some actual code examples"
   ]
  },
  {
   "cell_type": "markdown",
   "metadata": {},
   "source": [
    "Suppose we want to know the price of a product with the discount. This calls for a math expression, like:\n",
    "\n",
    "`unitprice - discount`\n",
    "\n",
    "We will want to subtract the cumulative amount of discounts from the unitprice. \n",
    "The next query will show all order details and the `sale_price` of the product. Note that we don't want where the product has no discounts - that's lame!"
   ]
  },
  {
   "cell_type": "code",
   "execution_count": null,
   "metadata": {},
   "outputs": [],
   "source": [
    "SELECT *, \n",
    "        unitprice - sum(discount) OVER(PARTITION BY orderid ORDER BY productid) AS sale_price\n",
    "FROM Order_Details\n",
    "WHERE discount != 0;"
   ]
  },
  {
   "cell_type": "markdown",
   "metadata": {},
   "source": [
    "This new column `sale_price` is a result of our window function. This is where the power of SQL comes in - we can manipulate our data to output new tables and aggregate columns as we see fit."
   ]
  },
  {
   "cell_type": "markdown",
   "metadata": {},
   "source": [
    "There are many different window functions to run through. Here are the most common window functions, separated by their types:\n",
    "\n",
    "#### Value\n",
    "\n",
    "- FIRST_VALUE()\n",
    "- LAG()\n",
    "- LAST_VALUE()\n",
    "- LEAD()\n",
    "\n",
    "#### Aggregate\n",
    "\n",
    "- AVG()\n",
    "- COUNT()\n",
    "- MAX()\n",
    "- MIN()\n",
    "- SUM()\n",
    "\n",
    "#### Ranking\n",
    "\n",
    "- CUME_DIST()\n",
    "- DENSE_RANK()\n",
    "- NTILE()\n",
    "- PERCENT_RANK()\n",
    "- RANK()\n",
    "- ROW_NUMBER()\n",
    "\n",
    "Let's run through another example together."
   ]
  },
  {
   "cell_type": "markdown",
   "metadata": {},
   "source": [
    "Starting with the Employees table, let's see the Employee ID, last name, first name, birth date, and hire date. Go ahead and create that table first."
   ]
  },
  {
   "cell_type": "code",
   "execution_count": null,
   "metadata": {},
   "outputs": [],
   "source": []
  },
  {
   "cell_type": "markdown",
   "metadata": {},
   "source": [
    "Next we'll be creating a new column that outputs the rank of each employee based on their hire date, so we can see how long each employee started working. Check out the output below to see how it is done. "
   ]
  },
  {
   "cell_type": "code",
   "execution_count": null,
   "metadata": {},
   "outputs": [],
   "source": [
    "SELECT employeeid, lastname, firstname, birthdate, hiredate, \n",
    "    RANK() OVER(PARTITION BY hiredate ORDER BY employeeid) AS hire_number\n",
    "FROM Employees;"
   ]
  },
  {
   "cell_type": "markdown",
   "metadata": {},
   "source": [
    "Each hire was the only one during its date, that's why the column outputs `1`,  *EXCEPT* Michael Suyama and Steven Buchanan, who were hired on the same day. Steven was hired first, as Employee ID `5`, so he gets to be hire_number 1."
   ]
  },
  {
   "cell_type": "markdown",
   "metadata": {},
   "source": [
    "### Extra Practice"
   ]
  },
  {
   "cell_type": "markdown",
   "metadata": {},
   "source": [
    "Select the orderid, customerid, shipvia, and freight from the Orders table. Create a column takes the max_freight partitioned by the customerid, and ordered by the shipvia attribute. Call this column `max_freight`. "
   ]
  },
  {
   "cell_type": "code",
   "execution_count": null,
   "metadata": {},
   "outputs": [],
   "source": []
  },
  {
   "cell_type": "markdown",
   "metadata": {},
   "source": [
    "Output the company name, contact name, contact title from the Suppliers table and the product ID and the product name from the Products table where the contact title is in Marketing. Order the table alphabetically by company name."
   ]
  },
  {
   "cell_type": "code",
   "execution_count": null,
   "metadata": {},
   "outputs": [],
   "source": [
    " "
   ]
  },
  {
   "cell_type": "markdown",
   "metadata": {},
   "source": [
    "### Window Functions in Subqueries\n",
    "\n",
    "In this section, we will introduce why multiple layers of queries are needed. You can build on your subqueries as you create more columns and your table begins to contain more nuanced attributes that you will continue to reference in your querying. Let's explain this with an example.\n",
    "\n",
    "Start with the Order Details table."
   ]
  },
  {
   "cell_type": "code",
   "execution_count": null,
   "metadata": {},
   "outputs": [],
   "source": [
    "SELECT * FROM Order_Details;"
   ]
  },
  {
   "cell_type": "markdown",
   "metadata": {},
   "source": [
    "Let's say we want to create a column with the min unit price depending on the product ID. We can drop the Order ID, quantity, and discount columns. That query would look something like this:"
   ]
  },
  {
   "cell_type": "code",
   "execution_count": null,
   "metadata": {},
   "outputs": [],
   "source": [
    "SELECT productid, unitprice,\n",
    "    MIN(unitprice)OVER(PARTITION BY productid ORDER BY orderid) as min\n",
    "FROM Order_Details;"
   ]
  },
  {
   "cell_type": "markdown",
   "metadata": {},
   "source": [
    "There are clearly a ton of duplicates in this new table, and we don't need each row. So we need to add some conditions. But here's the catch - we can't add any clauses on the `min` column in this initial query, because it doesn't exist yet. We are using this particular statement to *create* the column. \n",
    "\n",
    "We will work together to pick the `min` value that corresponds with the minimum unit price and only output that single row, breaking the process down step by step. If we want to rank the min values for each product (id), it would look like the query below. Don't forget the alias!"
   ]
  },
  {
   "cell_type": "code",
   "execution_count": null,
   "metadata": {},
   "outputs": [],
   "source": [
    "SELECT productid, unitprice, min, \n",
    " DENSE_RANK()OVER(PARTITION BY productid ORDER BY unitprice) as rank  \n",
    "FROM\n",
    "(SELECT *,\n",
    "    MIN(unitprice)OVER(PARTITION BY productid ORDER BY orderid) as min\n",
    "FROM Order_Details) as first_subquery\n",
    "ORDER BY productid;"
   ]
  },
  {
   "cell_type": "markdown",
   "metadata": {},
   "source": [
    "One way to test if this worked is to only look at one product id. Modify our query in the box down below so that we are only looking at Product Id `45`."
   ]
  },
  {
   "cell_type": "code",
   "execution_count": null,
   "metadata": {},
   "outputs": [],
   "source": []
  },
  {
   "cell_type": "markdown",
   "metadata": {},
   "source": [
    "How does it look? Does everything make sense? \n",
    "\n",
    "Since we are only looking at the min values, we really only want the row with the lowest unitprice. This corresponds with row_num `1`. Therefore, we need to add another layer to our subquery, choosing ONLY the rows that have row_num `1`. Remember, we can't do that directly to our current query since the `rank` column is still being created! The query now looks like this:"
   ]
  },
  {
   "cell_type": "code",
   "execution_count": null,
   "metadata": {},
   "outputs": [],
   "source": [
    "SELECT DISTINCT productid, unitprice, min, rank \n",
    "FROM\n",
    "(SELECT *,\n",
    "    DENSE_RANK()OVER(PARTITION BY productid ORDER BY unitprice) as rank  \n",
    "FROM\n",
    "(SELECT *,\n",
    "    MIN(unitprice)OVER(PARTITION BY productid ORDER BY orderid) as min\n",
    "FROM Order_Details) as first_subquery\n",
    "ORDER BY productid) as second_subquery\n",
    "WHERE rank = '1'\n",
    "ORDER BY productid;"
   ]
  },
  {
   "cell_type": "markdown",
   "metadata": {},
   "source": [
    "Scan through the newly created table quickly. Does each unitprice correspond with each min? \n",
    "\n",
    "This is an example of how deep subqueries can get, with adding and modifying columns. The layers can get tricky! Hopefully walking through an example together helps - we start with the simplest query we can get and build off it, creating clauses and subqueries where necessary. This is the secret to writing in SQL, break down each step and work your way to the finished product!"
   ]
  },
  {
   "cell_type": "markdown",
   "metadata": {},
   "source": [
    "### THE END!\n",
    "\n",
    "You have officially reached the end of the UCSB Data Science Club SQL tutorial. Congratulations on making it this far - everything you have learned in these notebooks will prepare you for advanced querying. Now that you’ve got a handle on SQL, you have the skills to navigate an entire database, create a database, and modify tables to create new data! These are some pretty solid skills you now have under your belt. \n",
    "\n",
    "Thank you to everyone who helped make this workshop and this tutorial possible. The material draws heavily from [w3schools' SQL tutorial](https://www.w3schools.com/sql/) and is a great resource to check out to learn more. The three notebooks were written by [Samantha Lee](http://github.com/samanthaklee/) and the seamless installation process was created by [Timothy Nguyen](https://github.com/timothydnguyen/), [Raul Eulogio](https://github.com/raviolli77), and [Shon Inouye](https://github.com/inouyesan). Finally, shout out to the four PSTAT clubs who banded together in the epic crossover event of the year. Check out each of our pages for more details!    \n",
    "\n",
    "[Data Science @ UCSB](https://www.facebook.com/DataScienceUCSB/)\n",
    "\n",
    "[Actuarial Association](http://actuaryclub.pstat.ucsb.edu/)\n",
    "\n",
    "[FACTOR](https://www.facebook.com/FACTORatUCSB/)\n",
    "\n",
    "[UCSB FAME](https://www.facebook.com/FAMEUCSB/)\n",
    "\n",
    "Here are some extra practice problems to end the final notebook. Good luck with the rest of your SQL journey!"
   ]
  },
  {
   "cell_type": "markdown",
   "metadata": {},
   "source": [
    "### Extra Practice\n",
    "\n",
    "**Part A.** Create a column that outputs the average units on order from the Products table. Partition by the category ID, and don't include any units on order that are 0's. "
   ]
  },
  {
   "cell_type": "code",
   "execution_count": null,
   "metadata": {},
   "outputs": [],
   "source": []
  },
  {
   "cell_type": "markdown",
   "metadata": {},
   "source": [
    "**Part B.** Rank the last query over the category id and order by the unit price. Alias the rank as `rank` and call the first subquery `first_subquery.`"
   ]
  },
  {
   "cell_type": "code",
   "execution_count": null,
   "metadata": {},
   "outputs": [],
   "source": []
  },
  {
   "cell_type": "markdown",
   "metadata": {},
   "source": [
    "**Part C.** \n",
    "Ouput all columns from the previous query where the rank is `2`."
   ]
  },
  {
   "cell_type": "code",
   "execution_count": null,
   "metadata": {},
   "outputs": [],
   "source": []
  },
  {
   "cell_type": "markdown",
   "metadata": {},
   "source": [
    "**Part A.** Select the customer ID, company name, contact name from the Customers table and select the employee ID and freight from the Orders table. Join these two tables with a left join and order by the employee ID."
   ]
  },
  {
   "cell_type": "code",
   "execution_count": null,
   "metadata": {},
   "outputs": [],
   "source": []
  },
  {
   "cell_type": "markdown",
   "metadata": {},
   "source": [
    "**Part B.** Use the `SUM` window function to find the total freight for each employee ID. Alias this as sum_freight.\n",
    "\n",
    "**(Hint: You can add this as a line to the initial query.)**"
   ]
  },
  {
   "cell_type": "code",
   "execution_count": null,
   "metadata": {},
   "outputs": [],
   "source": []
  },
  {
   "cell_type": "markdown",
   "metadata": {},
   "source": [
    "**Part C.** Filter the table to output only the sum freight that corresponds with the minimum freight. Include employee ID null values. \n",
    "\n",
    "**(Hint: This can be done with one subquery)**"
   ]
  },
  {
   "cell_type": "code",
   "execution_count": null,
   "metadata": {},
   "outputs": [],
   "source": []
  },
  {
   "cell_type": "markdown",
   "metadata": {},
   "source": [
    "What does the query look like for this table? \n",
    "\n",
    "|lastname|firstname| shipvia|shipvia_row| \n",
    "|---|--- |---| --- |\n",
    "|Buchanan|Steven| 1| 1 |\n",
    "|Buchanan|Steven| 2| 1 |\n",
    "|Buchanan|Steven| 3| 1 |\n",
    "|Fuller|Andrew| 1| 90 | \n",
    "|Fuller|Andrew| 2| 127 |\n",
    "|Fuller|Andrew| 3 |98 |\n",
    "\n",
    "**(Hint: Inner join the Employees table and the Orders table.)**"
   ]
  },
  {
   "cell_type": "code",
   "execution_count": null,
   "metadata": {},
   "outputs": [],
   "source": []
  }
 ],
 "metadata": {
  "kernelspec": {
   "display_name": "PostgreSQL",
   "language": "sql",
   "name": "postgres"
  },
  "language_info": {
   "codemirror_mode": "sql",
   "file_extension": ".sql",
   "mimetype": "text/x-postgresql",
   "name": "PostgreSQL"
  }
 },
 "nbformat": 4,
 "nbformat_minor": 2
}
