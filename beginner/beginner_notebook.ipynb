{
 "cells": [
  {
   "cell_type": "markdown",
   "metadata": {},
   "source": [
    "# BEGINNER TUTORIAL\n",
    "\n",
    "Welcome to the first part of the SQL tutorial! We are happy to see you here. In this notebook, you will learn the basic syntax of a SQL query, and begin to navigate a database to get the information you need. Once you've finished, you will be able to specify what kind of data you want from any database you have on hand. As with all unknown things, this is going to be an adventure - but no worries, since you already worked up the courage to be here, you'll be just fine :)\n",
    "\n",
    "## Using this notebook\n",
    "In a Jupyter notebook, code belongs in the gray cells and are executed cell by cell. Some of the cells in this notebook are already filled out with example code to help you understand the concepts, and some are left empty for you to fill. To execute the code in a particular cell, press **shift + enter** with your cursor in the cell you wish to execute. \n",
    "\n",
    "To make sure you got it, try it for yourself! The first thing we need to do is connect this notebook to our database. Below are two cells containing code to do so. Place your cursor in the appropriate cell and press **shift + enter** to execute it. If all went well, you'll see a number appear in the brackets next to the cell, but nothing else; otherwise, find a coach and we'll try to figure out what went wrong."
   ]
  },
  {
   "cell_type": "markdown",
   "metadata": {},
   "source": [
    "### Mac"
   ]
  },
  {
   "cell_type": "code",
   "execution_count": null,
   "metadata": {},
   "outputs": [],
   "source": [
    "-- connection: postgresql://localhost:5432/northwind"
   ]
  },
  {
   "cell_type": "markdown",
   "metadata": {},
   "source": [
    "### Windows"
   ]
  },
  {
   "cell_type": "code",
   "execution_count": null,
   "metadata": {},
   "outputs": [],
   "source": [
    "-- connection: host='localhost' dbname='northwind' user='postgres' password='postgres'"
   ]
  },
  {
   "cell_type": "markdown",
   "metadata": {},
   "source": [
    "For our exercises, we will be using the Northwind Database. This database is about a company named \"Northwind Traders\" and captures all the sales transactions that occur between the company and the customers, as well as the purchase transactions between Northwind and its suppliers.\n",
    "\n",
    "The diagram shows the table structure of the Northwind database.\n",
    "\n",
    "![](img/northwind_schema.png)\n",
    "\n",
    "There are additional tables, but we will only be using the ones shown above in this tutorial.\n",
    "\n",
    "Most of the actions you need to perform on a database are down with SQL statements. The general syntax of a SQL query takes the form below:"
   ]
  },
  {
   "cell_type": "markdown",
   "metadata": {},
   "source": [
    "```\n",
    "SELECT DISTINCT < column expression list >\n",
    "FROM < relation >\n",
    "WHERE < predicate >\n",
    "GROUP BY < column list > \n",
    "HAVING < predicate > \n",
    "ORDER BY < column list > \n",
    "LIMIT < number > ;\n",
    "```"
   ]
  },
  {
   "cell_type": "markdown",
   "metadata": {},
   "source": [
    "SQL keywords are NOT case sensitive; select is the same as SELECT. However, it is common practice to write SQL syntax in capital letters. It also helps to visually structure your query for others to read. We will write all SQL keywords in uppercase.\n",
    "\n",
    "A semicolon is the standard way to separate each SQL statement in database systems that allow more than one SQL statement to be executed in the same call to the server. In this tutorial, we will use semicolon at the end of each SQL statement.\n"
   ]
  },
  {
   "cell_type": "markdown",
   "metadata": {},
   "source": [
    "### Select Statements\n",
    "\n",
    "The SELECT statement is used to select data from a database. The data returned is stored in a result table, called the result-set.\n",
    "\n",
    "Try out the following SQL statements to see what columns you select from the \"Customers\" table."
   ]
  },
  {
   "cell_type": "code",
   "execution_count": null,
   "metadata": {},
   "outputs": [],
   "source": [
    "SELECT CompanyName, Address FROM Customers;"
   ]
  },
  {
   "cell_type": "code",
   "execution_count": null,
   "metadata": {},
   "outputs": [],
   "source": [
    "SELECT * FROM Customers;"
   ]
  },
  {
   "cell_type": "markdown",
   "metadata": {},
   "source": [
    "Inside a table, a column often contains many duplicate values; and sometimes you only want to list the different (distinct) values. The SELECT DISTINCT statement is used to return only unique values.\n",
    "\n",
    "What is the difference between the two statements below?"
   ]
  },
  {
   "cell_type": "code",
   "execution_count": null,
   "metadata": {},
   "outputs": [],
   "source": [
    "SELECT Country FROM Customers;"
   ]
  },
  {
   "cell_type": "code",
   "execution_count": null,
   "metadata": {},
   "outputs": [],
   "source": [
    "SELECT DISTINCT Country FROM Customers;"
   ]
  },
  {
   "cell_type": "markdown",
   "metadata": {},
   "source": [
    "### Where Clause\n",
    "\n",
    "The WHERE clause is used to filter records.\n",
    "\n",
    "The WHERE clause is used to extract only those records that fulfill a specified condition."
   ]
  },
  {
   "cell_type": "code",
   "execution_count": null,
   "metadata": {},
   "outputs": [],
   "source": [
    "SELECT * FROM Customers \n",
    "WHERE Country = 'Mexico';"
   ]
  },
  {
   "cell_type": "markdown",
   "metadata": {},
   "source": [
    "The following operators can be used in the WHERE clause:\n",
    "\n",
    "Operator | Description |\n",
    "--- |---|\n",
    "= | Equal |\n",
    "<> | Not equal|\n",
    "\\> | Greater than |\n",
    "< | Less than|\n",
    "\\>= |Greater than or equal|\n",
    "<= |Less than or equal|\n",
    "BETWEEN |Between an inclusive range|\n",
    "LIKE |Search for a pattern|\n",
    "IN |To specify multiple possible values for a column|\n",
    "\n",
    "\n",
    "### And/Not/Or Operators\n",
    "The WHERE clause can be combined with AND, OR, and NOT operators.\n",
    "\n",
    "The AND and OR operators are used to filter records based on more than one condition:\n",
    "\n",
    "The AND operator displays a record if all the conditions separated by AND is TRUE.\n",
    "The OR operator displays a record if any of the conditions separated by OR is TRUE.\n",
    "The NOT operator displays a record if the condition(s) is NOT TRUE."
   ]
  },
  {
   "cell_type": "code",
   "execution_count": null,
   "metadata": {},
   "outputs": [],
   "source": [
    "SELECT * FROM Customers\n",
    "WHERE Postalcode BETWEEN '05021' AND '05030';"
   ]
  },
  {
   "cell_type": "code",
   "execution_count": null,
   "metadata": {},
   "outputs": [],
   "source": [
    "SELECT companyname, contactname, country\n",
    "FROM Customers\n",
    "WHERE NOT country = 'Mexico';"
   ]
  },
  {
   "cell_type": "markdown",
   "metadata": {},
   "source": [
    "### Order By Keyword\n",
    "\n",
    "The ORDER BY keyword is used to sort the result-set in ascending or descending order. You will need to order by one of the attribute names.\n",
    "\n",
    "The ORDER BY keyword sorts the records in ascending order by default. To sort the records in descending order, use the DESC keyword."
   ]
  },
  {
   "cell_type": "code",
   "execution_count": null,
   "metadata": {},
   "outputs": [],
   "source": [
    "SELECT DISTINCT * FROM Customers\n",
    "ORDER BY Country ASC;"
   ]
  },
  {
   "cell_type": "code",
   "execution_count": null,
   "metadata": {},
   "outputs": [],
   "source": [
    "SELECT * FROM Customers\n",
    "ORDER BY City ASC, Country DESC;"
   ]
  },
  {
   "cell_type": "markdown",
   "metadata": {},
   "source": [
    "### Your turn to try! \n",
    "\n",
    "Select the company name, contact title, address, and region from the Customers table where the country isn't Italy. "
   ]
  },
  {
   "cell_type": "code",
   "execution_count": null,
   "metadata": {},
   "outputs": [],
   "source": []
  },
  {
   "cell_type": "markdown",
   "metadata": {},
   "source": [
    "Select all distinct columns from the Customers table where the country is France in ascending order by city. "
   ]
  },
  {
   "cell_type": "code",
   "execution_count": null,
   "metadata": {},
   "outputs": [],
   "source": []
  },
  {
   "cell_type": "markdown",
   "metadata": {},
   "source": [
    "Select the birthdate, address, city, and home phone from the Employees table where the city is in Seattle and the region is in Washington, ordered by postal code in descending order.\n",
    "\n",
    "**(Hint: refer to the database schema at the top of the notebook)**"
   ]
  },
  {
   "cell_type": "code",
   "execution_count": null,
   "metadata": {},
   "outputs": [],
   "source": []
  },
  {
   "cell_type": "markdown",
   "metadata": {},
   "source": [
    "### Aggregate Functions\n",
    "\n",
    "So far, we've only worked with data from the existing rows in the table - all of our returned tables have been some subset of the entries found in the table. But to conduct data analysis, we'll want to compute aggregate values over our data. In SQL, these are called aggregate functions.\n",
    "\n",
    "|Common Aggregate Functions include **count, sum, average (avg), maximum (max), and minimum (min).**\n",
    "\n",
    "For example, if we want to find the average price of all units in the Order Details table:"
   ]
  },
  {
   "cell_type": "code",
   "execution_count": null,
   "metadata": {},
   "outputs": [],
   "source": [
    "SELECT AVG(UnitPrice) \n",
    "FROM Order_Details;"
   ]
  },
  {
   "cell_type": "markdown",
   "metadata": {},
   "source": [
    "### Limit Clause\n",
    "\n",
    "LIMIT helps us control how the data is displayed by limiting the number of rows shown.\n",
    "If we want the top 3 distinct Customer IDs and ship names from the Orders table, then we would write:"
   ]
  },
  {
   "cell_type": "code",
   "execution_count": null,
   "metadata": {},
   "outputs": [],
   "source": [
    "SELECT DISTINCT CustomerID, shipname \n",
    "FROM Orders\n",
    "ORDER BY CustomerID\n",
    "LIMIT 3;"
   ]
  },
  {
   "cell_type": "markdown",
   "metadata": {},
   "source": [
    "We don't have to put ASC in the ORDER BY clause since SQL automatically orders in ascending order.  \n",
    "Also note that LIMIT needs to be the last part of the query."
   ]
  },
  {
   "cell_type": "markdown",
   "metadata": {},
   "source": [
    "### Let's try it!\n",
    "\n",
    "What is the first name, last name, and address of the first 10 employees in alphabetical order by last name? Use the Employees table. "
   ]
  },
  {
   "cell_type": "code",
   "execution_count": null,
   "metadata": {},
   "outputs": [],
   "source": []
  },
  {
   "cell_type": "markdown",
   "metadata": {},
   "source": [
    "How many employees are from London? "
   ]
  },
  {
   "cell_type": "code",
   "execution_count": null,
   "metadata": {},
   "outputs": [],
   "source": []
  },
  {
   "cell_type": "markdown",
   "metadata": {},
   "source": [
    "### Like Operator and Wildcard Character\n",
    "\n",
    "The LIKE operator is used in a WHERE clause to search for a specified pattern in a column. To do so, we need a wildcard character. This is used to substitute any other character(s) in a string. \n",
    "\n",
    "There are two wildcards used in conjunction with the LIKE operator:\n",
    "\n",
    "% - The percent sign represents zero, one, or multiple characters\n",
    "_ - The underscore represents a single character\n",
    "\n",
    "The percent sign and the underscore can also be used in combinations!\n",
    "So, if we want to find details about the Sir Rodney products then we just need to type:"
   ]
  },
  {
   "cell_type": "code",
   "execution_count": null,
   "metadata": {},
   "outputs": [],
   "source": [
    "SELECT * \n",
    "FROM Products\n",
    "WHERE productname LIKE '%Sir Rodney%';"
   ]
  },
  {
   "cell_type": "markdown",
   "metadata": {},
   "source": [
    "Or if we want to know which products start with 'S', then we need:"
   ]
  },
  {
   "cell_type": "code",
   "execution_count": null,
   "metadata": {},
   "outputs": [],
   "source": [
    "SELECT * \n",
    "FROM Products\n",
    "WHERE productname LIKE 'S%';"
   ]
  },
  {
   "cell_type": "markdown",
   "metadata": {},
   "source": [
    "Or maybe we want to know which products start with 'L' and are at least 3 characters in length?"
   ]
  },
  {
   "cell_type": "code",
   "execution_count": null,
   "metadata": {},
   "outputs": [],
   "source": [
    "SELECT * \n",
    "FROM Products\n",
    "WHERE productname LIKE 'L_%_%';"
   ]
  },
  {
   "cell_type": "markdown",
   "metadata": {},
   "source": [
    "Here are some other examples of how wildcard characters are used. \n",
    "\n",
    "\n",
    "LIKE Operator | Description |\n",
    "--- |---|\n",
    "WHERE productname LIKE 'a%' |Finds any values that starts with \"a\" |\n",
    "WHERE productname LIKE '%a' |Finds any values that ends with \"a\"|\n",
    "WHERE productname LIKE '%or%' |Finds any values that have \"or\" in any position |\n",
    "WHERE productname LIKE '_r%' |Finds any values that have \"r\" in the second position |\n",
    "WHERE productname LIKE 'a_%_%' |Finds any values that starts with \"a\" and are at least 3 characters in length |\n",
    "WHERE productname LIKE 'a%o' |Finds any values that starts with \"a\" and ends with \"o\" |\n"
   ]
  },
  {
   "cell_type": "markdown",
   "metadata": {},
   "source": [
    "### In Operator\n",
    "\n",
    "The IN operator allows you to specify multiple values in a WHERE clause.\n",
    "**This serves as a shorthand for multiple OR conditions.**\n",
    "\n",
    "The following statement selects all company names in Sweden, Germany, and France. "
   ]
  },
  {
   "cell_type": "code",
   "execution_count": null,
   "metadata": {},
   "outputs": [],
   "source": [
    "SELECT companyname \n",
    "FROM Customers\n",
    "WHERE country IN ('Sweden', 'Germany', 'France');"
   ]
  },
  {
   "cell_type": "markdown",
   "metadata": {},
   "source": [
    "### Between Operator\n",
    "\n",
    "The BETWEEN operator selects values within a given range. The values can be numbers, text, or dates. This operator is inclusive: begin and end values are included.\n",
    "\n",
    "\n",
    "The following statement selects the average unit price between 10 and 30 from the Order Details table. "
   ]
  },
  {
   "cell_type": "code",
   "execution_count": null,
   "metadata": {},
   "outputs": [],
   "source": [
    "SELECT AVG(unitprice)\n",
    "FROM Order_Details\n",
    "WHERE unitprice BETWEEN 10 AND 30;"
   ]
  },
  {
   "cell_type": "markdown",
   "metadata": {},
   "source": [
    "We can also negate this by adding the NOT clause to show the minimum unit price outside the previous example range."
   ]
  },
  {
   "cell_type": "code",
   "execution_count": null,
   "metadata": {},
   "outputs": [],
   "source": [
    "SELECT MIN(unitprice)\n",
    "FROM Order_Details\n",
    "WHERE unitprice NOT BETWEEN 10 and 30;"
   ]
  },
  {
   "cell_type": "markdown",
   "metadata": {},
   "source": [
    "### Let's practice!\n",
    "\n",
    "What is the count of the freights from the Orders table where the order id is between 10250 and 10400? "
   ]
  },
  {
   "cell_type": "code",
   "execution_count": null,
   "metadata": {},
   "outputs": [],
   "source": []
  },
  {
   "cell_type": "markdown",
   "metadata": {},
   "source": [
    "What is the supplierid, categoryid, and product name from the Products table where the productname starts with Qu and has at least 4 letters?"
   ]
  },
  {
   "cell_type": "code",
   "execution_count": null,
   "metadata": {},
   "outputs": [],
   "source": []
  },
  {
   "cell_type": "markdown",
   "metadata": {},
   "source": [
    "What are the units in stock from the Products table where the category id is between 5 and 7 in descending order? Only list in the top 3. "
   ]
  },
  {
   "cell_type": "code",
   "execution_count": null,
   "metadata": {},
   "outputs": [],
   "source": []
  },
  {
   "cell_type": "markdown",
   "metadata": {},
   "source": [
    "### GROUP BY Statement\n",
    "\n",
    "The GROUP BY statement is often used with aggregate functions *(COUNT, MAX, MIN, SUM, AVG)* to group the result by one or more columns. \n",
    "\n",
    "The following SQL statement lists the number of customers in each country:"
   ]
  },
  {
   "cell_type": "code",
   "execution_count": null,
   "metadata": {},
   "outputs": [],
   "source": [
    "SELECT COUNT(CustomerID), Country\n",
    "FROM Customers\n",
    "GROUP BY Country;"
   ]
  },
  {
   "cell_type": "markdown",
   "metadata": {},
   "source": [
    "The following SQL statement lists the number of customers in each country, sorted high to low:"
   ]
  },
  {
   "cell_type": "code",
   "execution_count": null,
   "metadata": {},
   "outputs": [],
   "source": [
    "SELECT COUNT(CustomerID), Country\n",
    "FROM Customers\n",
    "GROUP BY Country\n",
    "ORDER BY COUNT(CustomerID) DESC;"
   ]
  },
  {
   "cell_type": "markdown",
   "metadata": {},
   "source": [
    "### The SQL HAVING Clause\n",
    "\n",
    "The HAVING clause was added to SQL because the WHERE keyword could not be used with aggregate functions. It must follow the `Group By` clause to be used. The syntax is structured like:\n",
    "\n",
    "```\n",
    "SELECT column_name(s)\n",
    "FROM table_name\n",
    "WHERE condition\n",
    "GROUP BY column_name(s)\n",
    "HAVING condition\n",
    "ORDER BY column_name(s);\n",
    "```\n",
    "\n",
    "The following SQL statement lists the number of customers in each country. We've only included countries with more than 5 customers:"
   ]
  },
  {
   "cell_type": "code",
   "execution_count": null,
   "metadata": {},
   "outputs": [],
   "source": [
    "SELECT COUNT(CustomerID), Country\n",
    "FROM Customers\n",
    "GROUP BY Country\n",
    "HAVING COUNT(CustomerID) > 5;"
   ]
  },
  {
   "cell_type": "markdown",
   "metadata": {},
   "source": [
    "### Aliasing\n",
    "\n",
    "Sometimes column names are obscure and long, so we don't always want to type out all of it in our query. This is where aliases come in.\n",
    "\n",
    "SQL aliases are used to give a table (or a column in a table) a temporary name and are often used to make column names more readable, but only exists for the duration of the query.\n",
    "\n",
    "The following statement aliases the shipregion and shipaddress for the query."
   ]
  },
  {
   "cell_type": "code",
   "execution_count": null,
   "metadata": {},
   "outputs": [],
   "source": [
    "SELECT shipregion AS Region, shipaddress AS Address\n",
    "FROM Orders\n",
    "LIMIT 3;"
   ]
  },
  {
   "cell_type": "markdown",
   "metadata": {},
   "source": [
    "You can also alias the name of the table. This can be used when referencing multiple tables and in WHERE statements. We will go more into this later. Here's an example of aliasing a table for now:"
   ]
  },
  {
   "cell_type": "code",
   "execution_count": null,
   "metadata": {},
   "outputs": [],
   "source": [
    "SELECT *\n",
    "FROM Order_Details AS Details\n",
    "WHERE Details.productid = 11\n",
    "LIMIT 2;"
   ]
  },
  {
   "cell_type": "markdown",
   "metadata": {},
   "source": [
    "### Congrats!\n",
    "You have reached the end of the beginner half of this tutorial! \n",
    "\n",
    "We have introduced SQL syntax and the most important SQL statements needed to conduct data analysis using a relational database management system. You should now know how to select what kind of data you need from a single table in your database. \n",
    "\n",
    "If you have finished early, here are some extra practice problems to work through. At 12, we will break for lunch and start the intermediate portion of this workshop."
   ]
  },
  {
   "cell_type": "markdown",
   "metadata": {},
   "source": [
    "### Extra Practice\n",
    "\n",
    "What are the top 3 unit prices from the Products table where the supplier id is not between 2 and 6 and discontinued is 1? "
   ]
  },
  {
   "cell_type": "code",
   "execution_count": null,
   "metadata": {},
   "outputs": [],
   "source": []
  },
  {
   "cell_type": "markdown",
   "metadata": {},
   "source": [
    "Select the top 5 contact titles, contact names, and company names from the Suppliers table where the country is in USA, Singapore, Finland, ordered by city alphabetically. Alias the contact title as 'title', the contact name as 'name', and the company name as 'company'. "
   ]
  },
  {
   "cell_type": "code",
   "execution_count": null,
   "metadata": {},
   "outputs": [],
   "source": []
  },
  {
   "cell_type": "markdown",
   "metadata": {},
   "source": [
    "What is the contact name, contact title and address of the customers who are in any sales positions and from Brazil, France, or Germany? Alias the contact name as 'name' and the contact title as 'title'. "
   ]
  },
  {
   "cell_type": "code",
   "execution_count": null,
   "metadata": {},
   "outputs": [],
   "source": []
  },
  {
   "cell_type": "markdown",
   "metadata": {},
   "source": [
    "What is the max units in stock from the products table where the unit price is between 30 and 60 and the product name does not contain tofu? "
   ]
  },
  {
   "cell_type": "code",
   "execution_count": null,
   "metadata": {},
   "outputs": [],
   "source": []
  },
  {
   "cell_type": "markdown",
   "metadata": {},
   "source": [
    "What are the top 3 order ids, required date, shipped date, and shipname from the Orders table where the ship country is in Switzerland, in descending order? "
   ]
  },
  {
   "cell_type": "code",
   "execution_count": null,
   "metadata": {},
   "outputs": [],
   "source": []
  },
  {
   "cell_type": "markdown",
   "metadata": {},
   "source": [
    "What is the count of unit prices from the Products table for each Category ID? List the category IDs in ascending order."
   ]
  },
  {
   "cell_type": "code",
   "execution_count": null,
   "metadata": {},
   "outputs": [],
   "source": []
  },
  {
   "cell_type": "markdown",
   "metadata": {},
   "source": [
    "What is the Customer ID from the Orders table that have Order IDs between `10250` and `10477` and have an average freight larger than 22? "
   ]
  },
  {
   "cell_type": "code",
   "execution_count": null,
   "metadata": {},
   "outputs": [],
   "source": []
  }
 ],
 "metadata": {
  "kernelspec": {
   "display_name": "PostgreSQL",
   "language": "postgresql",
   "name": "postgres"
  },
  "language_info": {
   "codemirror_mode": "sql",
   "file_extension": ".sql",
   "mimetype": "text/x-postgresql",
   "name": "PostgreSQL"
  }
 },
 "nbformat": 4,
 "nbformat_minor": 2
}
