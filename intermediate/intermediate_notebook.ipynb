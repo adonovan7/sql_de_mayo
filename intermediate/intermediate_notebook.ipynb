{
 "cells": [
  {
   "cell_type": "markdown",
   "metadata": {},
   "source": [
    "## Intermediate Notebook"
   ]
  },
  {
   "cell_type": "markdown",
   "metadata": {},
   "source": [
    "Welcome back to the second half of your adventure with SQL! By now, you should be comfortable with writing simple queries and selecting attributes from a table based on certain conditions. If at any point you feel like you need to review, take a breather and jump back into the beginner notebook to refresh. \n",
    "\n",
    "In this section you'll be exploring SQL joins and how to merge tables in a relational database. Let's jump right into it!\n",
    "\n",
    "## What is a join?\n",
    "\n",
    "When broken down, the mechanics of a join are pretty straightforward.  To perform a join you need two items: two tables and a join condition.  The tables contain the rows to be combined, and the join condition the instructions to match rows together. A common join pattern you’ll come across is joining the primary key of one table to its foreign key.  \n",
    "\n",
    "### What process do we use to break up our data?\n",
    "\n",
    "If you guessed normalization, you are correct.  Through that process we break up dependencies within tables to eliminate update anomalies among other things, but in order to keep relationships, we introduce foreign keys.\n",
    "\n",
    "Let’s take an example from the sample database.  Consider the following data model involving the Employees and Orders table.  In this model each employee can place zero or more orders. The EmployeeID is the primary key in the Employees table and foreign key in the Orders table.  For each employee there can be none, one, or perhaps many orders.\n",
    "\n",
    "![](img/Joining-Tables-Data-Model.png)\n",
    "\n",
    "Check the following diagram.  We join the table together we are looking for rows where the EmployeeID matches.  So, for every order, where the EmployeeID = 4, the database will match to the Employees table and match to the corresponding row. In this case that is the employee whose last name is “Baker.”\n",
    "\n",
    "![](img/Inner-Join-In-Action.png)\n",
    "\n",
    "This type of join is called an inner join and we'll go through the explanation in detail later, but if you are dying to try it now, here is the command!\n"
   ]
  },
  {
   "cell_type": "markdown",
   "metadata": {},
   "source": [
    "### Mac"
   ]
  },
  {
   "cell_type": "code",
   "execution_count": 2,
   "metadata": {},
   "outputs": [
    {
     "name": "stderr",
     "output_type": "stream",
     "text": [
      "Failed to connect to a database at postgresql://localhost:5432/northwind"
     ]
    }
   ],
   "source": [
    "-- connection: postgresql://localhost:5432/northwind"
   ]
  },
  {
   "cell_type": "markdown",
   "metadata": {},
   "source": [
    "### Windows"
   ]
  },
  {
   "cell_type": "code",
   "execution_count": null,
   "metadata": {},
   "outputs": [],
   "source": [
    "-- connection: host='localhost' dbname='northwind' user='postgres' password='postgres'"
   ]
  },
  {
   "cell_type": "code",
   "execution_count": null,
   "metadata": {},
   "outputs": [],
   "source": [
    "SELECT Employees.LastName, Orders.ShippedDate\n",
    "FROM Employees\n",
    "INNER JOIN Orders ON Employees.EmployeeID = Orders.EmployeeID"
   ]
  },
  {
   "cell_type": "markdown",
   "metadata": {},
   "source": [
    "## Types of Joins\n",
    "\n",
    "There are four main types of joins: inner joins, outer joins, left joins, and right joins. We will see how each of the joins combines tables.  "
   ]
  },
  {
   "cell_type": "markdown",
   "metadata": {},
   "source": [
    "### Inner Joins\n",
    "\n",
    "In an inner join, the final table only contains rows that have matching columns in both tables. An important thing to note is that for inner joins, if a row doesn't have a matching value in the other table, the row is not included in the final result.\n",
    "\n",
    "![](img/innerjoin.png)\n",
    "\n",
    "To write an inner join we need to use the following syntax:\n",
    "\n",
    "```\n",
    "SELECT ...\n",
    "FROM <TABLE_1>\n",
    "    INNER JOIN <TABLE_2>\n",
    "    ON <...>\n",
    "```"
   ]
  },
  {
   "cell_type": "markdown",
   "metadata": {},
   "source": [
    "Say we had the following two tables:\n",
    "\n",
    "**Table A**\n",
    "\n",
    "id | firstName | lastName |\n",
    "--- |---| --- |\n",
    "1 | Andie | Donovan |\n",
    "2 | Shon | Inouye|\n",
    "3 | Myranda | Flores. |\n",
    "6 | Eileen | Zhu |"
   ]
  },
  {
   "cell_type": "markdown",
   "metadata": {},
   "source": [
    "**Table B**\n",
    "\n",
    "id2 | age | place |\n",
    "--- |---| --- |\n",
    "1 | 21 | Del Playa |\n",
    "2 | 22 | Sabado |\n",
    "3 | 21 | Pasado |\n",
    "5 | 19 | Sueno |\n",
    "\n",
    "An inner join would lead to a table of this result:\n",
    "\n",
    "```\n",
    "SELECT TableA.firstName,TableA.lastName,TableB.age,TableB.place\n",
    "FROM TableA\n",
    "INNER JOIN TableB\n",
    "ON TableA.id = TableB.id2;\n",
    "```"
   ]
  },
  {
   "cell_type": "markdown",
   "metadata": {},
   "source": [
    "|id|firstname| firstName | age | Place\n",
    "|---|--- |---| --- |---|\n",
    "|1|Andie | Donovan |21| Del Playa|\n",
    "|2|Shon | Inouye|22|Sabado|\n",
    "|3|Myranda | Flores |21|Pasado|\n",
    "\n",
    "The join has returned the intersection of the two tables (i.e., where id and id2 both have 1, 2, and 3)."
   ]
  },
  {
   "cell_type": "markdown",
   "metadata": {},
   "source": [
    "So for example, if we want to join the Orders table with the Order_Details, we need to write:"
   ]
  },
  {
   "cell_type": "code",
   "execution_count": null,
   "metadata": {},
   "outputs": [],
   "source": [
    "SELECT * \n",
    "FROM Orders AS O\n",
    "    INNER JOIN Order_Details AS OD\n",
    "    on O.orderid = OD.orderid;"
   ]
  },
  {
   "cell_type": "markdown",
   "metadata": {},
   "source": [
    "This is where aliasing comes in handy. You need to join the tables on a common attribute in both tables (in this case, the order ID). As the queries you build become more complex, it is simpler to alias the tables with a single letter whenever you reference them during joins.  \n"
   ]
  },
  {
   "cell_type": "markdown",
   "metadata": {},
   "source": [
    "### Full/Outer Join\n",
    "\n",
    "In a full join (sometimes called an outer join), all records from both tables are included in the joined table. If a row doesn't have a match in the other table, the missing values are filled in with NULL.\n",
    "\n",
    "![](img/outerjoin.png)\n",
    "\n",
    "As before, we join the Orders and Order Details tables together to match the order types with its details. A full join comes in handy because we want to keep all rows in either table even if there isn't a match."
   ]
  },
  {
   "cell_type": "markdown",
   "metadata": {},
   "source": [
    "If we wrote a query with a full join about our example Table A and Table B from earlier, the resulting table would look like:\n",
    "\n",
    "```\n",
    "SELECT TableA.firstName,TableA.lastName,TableB.age,TableB.Place\n",
    "FROM TableA\n",
    "FULL JOIN TableB\n",
    "ON TableA.id = TableB.id2\n",
    "```"
   ]
  },
  {
   "cell_type": "markdown",
   "metadata": {},
   "source": [
    "|id|firstname| firstName | age | Place\n",
    "|---|--- |---| --- |---|\n",
    "|1|Andie | Donovan |21| Del Playa|\n",
    "|2|Shon | Inouye|22|Sabado|\n",
    "|3|Myranda | Flores |21|Pasado|\n",
    "|5|Eileen | Zhu |NULL|NULL|\n",
    "|6|NULL | NULL |19|Sueno|\n",
    "\n",
    "Since this is a full join, we are returning every row in both tables. The tables that don't have columns in the other tables returns a `NULL` value. \n",
    "\n",
    "**Note:** For any query OTHER than an inner join, the order matters. \n",
    "Now let's see how it looks in our example database:"
   ]
  },
  {
   "cell_type": "code",
   "execution_count": null,
   "metadata": {},
   "outputs": [],
   "source": [
    "SELECT * \n",
    "FROM Orders AS O\n",
    "    FULL JOIN Order_Details AS OD\n",
    "    on O.orderid = OD.orderid"
   ]
  },
  {
   "cell_type": "markdown",
   "metadata": {},
   "source": [
    "### Left Join\n",
    "\n",
    "In a left join, all records from the left table are included in the joined table. If a row doesn't have a match in the right table, the missing values are filled in with NULL.\n",
    "\n",
    "![](img/left_join.png)\n",
    "\n",
    "This time, we want to keep all the order details even if an order doesn't have a matching ID.\n",
    "\n",
    "To write an left join in SQL, we modify our FROM clause to use the following syntax:\n",
    "\n",
    "```\n",
    "SELECT TableA.firstName,TableA.lastName,TableB.age,TableB.Place\n",
    "FROM TableA\n",
    "LEFT JOIN TableB\n",
    "ON TableA.id = TableB.id2;\n",
    "```\n",
    "\n",
    "|id|firstname| firstName | age | Place\n",
    "|---|--- |---| --- |---|\n",
    "|1|Andie | Donovan |21| Del Playa|\n",
    "|2|Shon | Inouye|22|Sabado|\n",
    "|3|Myranda | Flores |21|Pasado|\n",
    "|5|Eileen | Zhu |NULL|NULL|\n",
    "\n",
    "We are trying to obtain all the selected rows in Table A, plus any common rows in Table B."
   ]
  },
  {
   "cell_type": "markdown",
   "metadata": {},
   "source": [
    "And in our database:"
   ]
  },
  {
   "cell_type": "code",
   "execution_count": null,
   "metadata": {},
   "outputs": [],
   "source": [
    "SELECT * \n",
    "FROM Orders AS O\n",
    "    LEFT JOIN Order_Details AS OD\n",
    "    on O.orderid = OD.orderid;"
   ]
  },
  {
   "cell_type": "markdown",
   "metadata": {},
   "source": [
    "### Right Join\n",
    "\n",
    "In a right join, all records from the right table are included in the joined table. If a row doesn't have a match in the right table, the missing values are filled in with NULL.\n",
    "\n",
    "![](img/right_join.png)\n",
    "\n",
    "The right joined example table looks like so:\n",
    "\n",
    "|id|firstname| firstName | age | Place\n",
    "|---|--- |---| --- |---|\n",
    "|1|Andie | Donovan |21| Del Playa|\n",
    "|2|Shon | Inouye|22|Sabado|\n",
    "|3|Myranda | Flores |21|Pasado|\n",
    "|6|NULL | NULL |19|Sueno|\n",
    "\n",
    "How do you think a right join SQL query is written? Go ahead and try it out down below! Use the same two Northwind database tables we used earlier. "
   ]
  },
  {
   "cell_type": "code",
   "execution_count": null,
   "metadata": {},
   "outputs": [],
   "source": []
  },
  {
   "cell_type": "markdown",
   "metadata": {},
   "source": [
    "You may notice that a right join produces the same result a left join with the table order swapped. That is, names left joined with colors is the same as colors right joined with names. Because of this, some SQL engines do not support right joins.\n",
    "\n",
    "\n",
    "We have covered the four main types of SQL joins: inner, full, left, and right joins. We use all four joins to combine information in separate relations, and each join differs only in how it handles non-matching rows in the input tables. "
   ]
  },
  {
   "cell_type": "markdown",
   "metadata": {},
   "source": [
    "### Practice\n",
    "\n",
    "What is the number of orders from each company? Alias the Order id as NumberOfOrders and group by the company name. \n",
    "\n",
    "**(Hint: Use a left join and COUNT here.)**"
   ]
  },
  {
   "cell_type": "code",
   "execution_count": null,
   "metadata": {},
   "outputs": [],
   "source": []
  },
  {
   "cell_type": "markdown",
   "metadata": {},
   "source": [
    "Output the employees with the last name \"Davolio\" or \"Fuller\"  who have registered more than 25 orders. Alias the Order id as NumberOfOrders and group by the last name."
   ]
  },
  {
   "cell_type": "code",
   "execution_count": null,
   "metadata": {},
   "outputs": [],
   "source": []
  },
  {
   "cell_type": "markdown",
   "metadata": {},
   "source": [
    "### Implicit Inner Joins\n",
    "\n",
    "Just like there are multiple ways to solve a problem, there are typically multiple ways to accomplish the same task in SQL. Here is one other method for writing an inner join that appears in practice called an `implicit join`. Recall that we previously wrote the following to conduct an inner join:"
   ]
  },
  {
   "cell_type": "code",
   "execution_count": null,
   "metadata": {},
   "outputs": [],
   "source": [
    "SELECT * \n",
    "FROM Orders AS O\n",
    "    INNER JOIN Order_Details AS OD\n",
    "    on O.orderid = OD.orderid;"
   ]
  },
  {
   "cell_type": "markdown",
   "metadata": {},
   "source": [
    "An implicit inner join has a slightly different syntax. Notice in particular that the FROM clause uses a comma to select from two tables and that the query includes a WHERE clause to specify the join condition.\n",
    "\n",
    "\n",
    "When multiple tables are specified in the FROM clause, SQL creates a table containing every combination of rows from each table. This operation is often called a `Cartesian product`: each row in the first table is paired with every row in the second table. The additional WHERE clause in the implicit join filters out rows that do not have matching orderid values.\n",
    "\n",
    "For example:"
   ]
  },
  {
   "cell_type": "code",
   "execution_count": null,
   "metadata": {},
   "outputs": [],
   "source": [
    "SELECT *\n",
    "FROM Orders AS O, Order_Details AS OD\n",
    "WHERE O.orderid = OD.orderid;"
   ]
  },
  {
   "cell_type": "markdown",
   "metadata": {},
   "source": [
    "### Joining Three Tables\n",
    "\n",
    "Just as you can join two tables, you can easily join three! Here, we join the order ID from the Orders table with the Company Name from the Customers table, and the first and last name of the employee from the Employees table."
   ]
  },
  {
   "cell_type": "code",
   "execution_count": null,
   "metadata": {},
   "outputs": [],
   "source": [
    "SELECT Orders.OrderID, Customers.CompanyName, Employees.LastName, Employees.FirstName\n",
    "FROM ((Orders\n",
    "        INNER JOIN Customers ON Orders.CustomerID = Customers.CustomerID)\n",
    "        INNER JOIN Employees ON Orders.EmployeeID = Employees.EmployeeID);"
   ]
  },
  {
   "cell_type": "markdown",
   "metadata": {},
   "source": [
    "### The SQL UNION Operator\n",
    "\n",
    "The UNION operator is used to combine the result-set of two or more SELECT statements.\n",
    "\n",
    "Each SELECT statement within UNION must have the same number of columns. The columns must also have similar data types and the columns in each SELECT statement must also be in the same order.\n",
    "\n",
    "### UNION ALL Syntax\n",
    "The UNION operator selects only distinct values by default. To allow duplicate values, use UNION ALL. \n",
    "\n",
    "Here's a snippet from both the Customers table and the Suppliers table.\n"
   ]
  },
  {
   "cell_type": "code",
   "execution_count": null,
   "metadata": {},
   "outputs": [],
   "source": [
    "SELECT CustomerID, ContactName, Address, City, PostalCode, Country\n",
    "FROM Customers\n",
    "LIMIT 3;"
   ]
  },
  {
   "cell_type": "code",
   "execution_count": null,
   "metadata": {},
   "outputs": [],
   "source": [
    "SELECT SupplierID, ContactName, Address, City, PostalCode, Country\n",
    "FROM Suppliers\n",
    "LIMIT 3;"
   ]
  },
  {
   "cell_type": "markdown",
   "metadata": {},
   "source": [
    "The following query selects all the different cities (only distinct values) from \"Customers\" and \"Suppliers\":"
   ]
  },
  {
   "cell_type": "code",
   "execution_count": null,
   "metadata": {},
   "outputs": [],
   "source": [
    "SELECT City FROM Customers\n",
    "UNION\n",
    "SELECT City FROM Suppliers\n",
    "ORDER BY City;"
   ]
  },
  {
   "cell_type": "markdown",
   "metadata": {},
   "source": [
    "**Note**: If some customers or suppliers have the same city, each city will only be listed once, because UNION selects only distinct values. Use UNION ALL to also select duplicate values!"
   ]
  },
  {
   "cell_type": "code",
   "execution_count": null,
   "metadata": {},
   "outputs": [],
   "source": [
    "SELECT City FROM Customers\n",
    "UNION ALL\n",
    "SELECT City FROM Suppliers\n",
    "ORDER BY City;"
   ]
  },
  {
   "cell_type": "markdown",
   "metadata": {},
   "source": [
    "### Practice Questions\n",
    "\n",
    "What are the supplier IDs that match in both the Products table and the Suppliers table?"
   ]
  },
  {
   "cell_type": "code",
   "execution_count": null,
   "metadata": {},
   "outputs": [],
   "source": []
  },
  {
   "cell_type": "markdown",
   "metadata": {},
   "source": [
    "What is the customer address, order date, and employee notes on Order ID `10481`? Use an inner join. "
   ]
  },
  {
   "cell_type": "code",
   "execution_count": null,
   "metadata": {},
   "outputs": [],
   "source": []
  },
  {
   "cell_type": "markdown",
   "metadata": {},
   "source": [
    "What is the max quantity of the Sasquatch Ale product? Use an implicit inner join. "
   ]
  },
  {
   "cell_type": "code",
   "execution_count": null,
   "metadata": {},
   "outputs": [],
   "source": []
  },
  {
   "cell_type": "markdown",
   "metadata": {},
   "source": [
    "## Creating Databases\n",
    "\n",
    "Just as important as operating databases is creating them. \n",
    "\n",
    "For this workshop, we’re going to design a movies database. Each movie has a title and year, one (and only one) director, and some number of actors. Actors can star in multiple movies. Directors can direct multiple movies. Some movies have the same title such as `Ocean’s Eleven` (the 2001 version directed by Steven Sodenbergh had George Clooney, Brad Pitt, Matt Damon, Julia Roberts, and many others, but the 1960 version was directed by Lewis Milestone and starred Frank Sinatra, Dean Martin and Sammy Davis Jr).\n",
    "\n",
    "The schema should be normalized enough to avoid duplicating strings too much, and also to be able to efficiently answer questions like these two:\n",
    "\n",
    "- Who acted in Fight Club (1999)?\n",
    "- What are the 10 most recent movies that George Clooney starred in?\n",
    "\n",
    "Use your judgement about what a good answer is in terms of what to name the tables, what keys they should have. To be consistent, always keep in mind:\n",
    "\n",
    "- How many tables?\n",
    "- What are the names of the tables?\n",
    "- What are the names of each column in those tables? What are the types of each column?\n"
   ]
  },
  {
   "cell_type": "markdown",
   "metadata": {},
   "source": [
    "####  Schema design\n",
    "One possible answer (and there are many others that are acceptable):\n",
    "\n",
    "\n",
    "movie | person | movie_actor |\n",
    "--- |---| --- |\n",
    "id (integer) | id (integer) | actor_id (integer) |\n",
    "title (char) | name (char) | movie_id (integer) |\n",
    "year (integer)| | |\n",
    "director_id (integer) || |\n",
    "\n",
    "This is what we're going to build today!"
   ]
  },
  {
   "cell_type": "markdown",
   "metadata": {},
   "source": [
    "### The SQL CREATE DATABASE Statement\n",
    "\n",
    "The first thing we'll need to make is the actual database. This is done with the `CREATE DATABASE` statement. For the sake of the tutorial, we'll be building on the Northwind database we have already.\n",
    "\n",
    "To create a database, the syntax looks like:\n",
    "\n",
    "**CREATE DATABASE name;**"
   ]
  },
  {
   "cell_type": "markdown",
   "metadata": {},
   "source": [
    "### The SQL CREATE TABLE Statement\n",
    "\n",
    "The tables live inside the database. This is done with the `CREATE TABLE` statement is used to create a new table in a database. The syntax looks like:\n",
    "\n",
    "```\n",
    "CREATE TABLE table_name (\n",
    "    column1 datatype,\n",
    "    column2 datatype,\n",
    "    column3 datatype,\n",
    "   ....\n",
    ");\n",
    "```\n",
    "\n",
    "The column parameters specify the names of the columns of the table and the datatype parameter specifies the type of data the column can hold (e.g. varchar, integer, date, etc.).\n",
    "\n",
    "So if we wanted to make a table about the movie actor..."
   ]
  },
  {
   "cell_type": "code",
   "execution_count": null,
   "metadata": {},
   "outputs": [],
   "source": [
    "CREATE TABLE IF NOT EXISTS movie_actor (\n",
    "    actor_id int,\n",
    "    name varchar(255)\n",
    ");"
   ]
  },
  {
   "cell_type": "markdown",
   "metadata": {},
   "source": [
    "The actor_id column is of type int and will hold an integer. The name column is of type varchar and will hold characters, and the maximum length for these fields is 255 characters.\n",
    "\n",
    "Once you've created the table, you don't need to worry about losing this data. It exists in your database and is free for you to write all the queries in the world! Now, to make this table useful, we'll need to input our own data. "
   ]
  },
  {
   "cell_type": "markdown",
   "metadata": {},
   "source": [
    "### SELECT INTO Statement\n",
    "\n",
    "For now, the table is empty. One way to remedy this is to copy data from one table into another. This can be done with the `SELECT INTO` statement. For example, if we wanted to duplicate the data from the Employees table into the movie_actor table, we would write:"
   ]
  },
  {
   "cell_type": "code",
   "execution_count": null,
   "metadata": {},
   "outputs": [],
   "source": [
    "SELECT *\n",
    "INTO movie_actor \n",
    "FROM Employees;"
   ]
  },
  {
   "cell_type": "code",
   "execution_count": null,
   "metadata": {},
   "outputs": [],
   "source": [
    "SELECT * FROM movie_actor;"
   ]
  },
  {
   "cell_type": "markdown",
   "metadata": {},
   "source": [
    "### ALTER TABLE Statement\n",
    "\n",
    "The ALTER TABLE statement is used to add, delete, or modify columns in an existing table. This is also used to add and drop various constraints on an existing table."
   ]
  },
  {
   "cell_type": "markdown",
   "metadata": {},
   "source": [
    "#### ALTER TABLE - ADD Column\n",
    "To add a column in a table, use the following syntax:\n",
    "\n",
    "```\n",
    "ALTER TABLE table_name\n",
    "ADD column_name datatype;\n",
    "```"
   ]
  },
  {
   "cell_type": "code",
   "execution_count": null,
   "metadata": {},
   "outputs": [],
   "source": [
    "ALTER TABLE movie_actor\n",
    "ADD dateofbirth int;"
   ]
  },
  {
   "cell_type": "code",
   "execution_count": null,
   "metadata": {},
   "outputs": [],
   "source": [
    "SELECT *\n",
    "FROM movie_actor;"
   ]
  },
  {
   "cell_type": "markdown",
   "metadata": {},
   "source": [
    "If you scroll to the far right, there is our added column! Don't try to do anything with it though - there is nothing actually in it. \n",
    "\n",
    "#### ALTER TABLE - DROP COLUMN\n",
    "To delete a column in a table, use the following syntax:\n",
    "```\n",
    "ALTER TABLE table_name\n",
    "DROP COLUMN column_name;\n",
    "```"
   ]
  },
  {
   "cell_type": "code",
   "execution_count": null,
   "metadata": {},
   "outputs": [],
   "source": [
    "ALTER TABLE movie_actor\n",
    "DROP COLUMN notes;"
   ]
  },
  {
   "cell_type": "code",
   "execution_count": null,
   "metadata": {},
   "outputs": [],
   "source": [
    "SELECT * \n",
    "FROM movie_actor;"
   ]
  },
  {
   "cell_type": "markdown",
   "metadata": {},
   "source": [
    "Can you still see the notes column?"
   ]
  },
  {
   "cell_type": "markdown",
   "metadata": {},
   "source": [
    "### Truncating table \n",
    "\n",
    "Now, we know that employee data isn't relevant to movie data. If we want to delete the data inside the table, we will use the Truncase statement. "
   ]
  },
  {
   "cell_type": "code",
   "execution_count": null,
   "metadata": {},
   "outputs": [],
   "source": [
    "TRUNCATE TABLE movie_actor;"
   ]
  },
  {
   "cell_type": "markdown",
   "metadata": {},
   "source": [
    "Run the query down below to check that the deletion worked. "
   ]
  },
  {
   "cell_type": "code",
   "execution_count": null,
   "metadata": {},
   "outputs": [],
   "source": [
    "SELECT * FROM movie_actor;"
   ]
  },
  {
   "cell_type": "markdown",
   "metadata": {},
   "source": [
    "### Primary Key\n",
    "\n",
    "The PRIMARY KEY constraint uniquely identifies each record in a database table. Primary keys must contain UNIQUE values, and cannot contain NULL values. This is what we referenced to join our tables on earlier. \n",
    "\n",
    "A table can have only one primary key, which may consist of single or multiple fields.\n",
    "\n",
    "#### SQL PRIMARY KEY on CREATE TABLE\n",
    "The following SQL creates a PRIMARY KEY on the \"ID\" column when the Persons table is created:"
   ]
  },
  {
   "cell_type": "code",
   "execution_count": null,
   "metadata": {},
   "outputs": [],
   "source": [
    "CREATE TABLE IF NOT EXISTS persons (\n",
    "    ID int NOT NULL PRIMARY KEY,\n",
    "    name varchar(255)\n",
    ");"
   ]
  },
  {
   "cell_type": "markdown",
   "metadata": {},
   "source": [
    "### FOREIGN KEY Constraint\n",
    "\n",
    "A FOREIGN KEY is a key used to link two tables together. A FOREIGN KEY is a field (or collection of fields) in one table that refers to the PRIMARY KEY in another table.\n",
    "\n",
    "The table containing the foreign key is called the child table, and the table containing the candidate key is called the referenced or parent table.\n",
    "\n",
    "If we jump back to the Northwind database we've been working on and look at the following two tables:"
   ]
  },
  {
   "cell_type": "code",
   "execution_count": null,
   "metadata": {},
   "outputs": [],
   "source": [
    "SELECT * \n",
    "FROM Orders;"
   ]
  },
  {
   "cell_type": "code",
   "execution_count": null,
   "metadata": {},
   "outputs": [],
   "source": [
    "SELECT *\n",
    "FROM Order_Details;"
   ]
  },
  {
   "cell_type": "markdown",
   "metadata": {},
   "source": [
    "Notice that the \"OrderID\" column in the Orders table points to the \"OrderID\" column in the Order_Details table.\n",
    "\n",
    "The OrderID column in the Orders table is the `PRIMARY KEY`.\n",
    "\n",
    "The \"OrderID\" column in the Order_Details table is the `FOREIGN KEY`.\n",
    "\n",
    "The FOREIGN KEY constraint is used to prevent actions that would destroy links between tables and invalid data from being inserted into the foreign key column, because it has to be one of the values contained in the table it points to."
   ]
  },
  {
   "cell_type": "markdown",
   "metadata": {},
   "source": [
    "If we want to create a foreign key when we create a table (and the last component of our database), it looks like so: "
   ]
  },
  {
   "cell_type": "code",
   "execution_count": null,
   "metadata": {},
   "outputs": [],
   "source": [
    "CREATE TABLE IF NOT EXISTS movie (\n",
    "    ID int NOT NULL PRIMARY KEY,\n",
    "    title varchar(255),\n",
    "    year int NOT NULL,\n",
    "    director_id int REFERENCES persons(ID)\n",
    ");"
   ]
  },
  {
   "cell_type": "markdown",
   "metadata": {},
   "source": [
    "Whew! You just added to your first database! Let's see how it looks. Run the command down below to see all the tables that now exist in Northwind. You should be able to see `movie`, `movie_actor`, and `persons` in there now. "
   ]
  },
  {
   "cell_type": "code",
   "execution_count": null,
   "metadata": {},
   "outputs": [],
   "source": [
    "SELECT * \n",
    "FROM information_schema.tables \n",
    "WHERE table_schema='public';"
   ]
  },
  {
   "cell_type": "markdown",
   "metadata": {},
   "source": [
    "## Woohoo!\n",
    "\n",
    "Give yourself a pat on the back. You've made it to the end of the UCSB SQL Workshop. We've covered a lot today, and we hope you have learned something about using SQL to navigate and manage databases. To review, you should now have the capabilities to write detailed queries and join multiple tables to obtain the information you need to complete your analysis. \n",
    "\n",
    "Not too shabby for a day's work!\n",
    "\n",
    "### What's next? \n",
    "\n",
    "Take a break and relax. You've just completed something huge. If you're itching for some more, included in this curriculum is some further practice, and applications related to SQL that you can work with.  \n",
    "\n",
    "For now, here's some problems that you can solve before we finish up the workshop. The coaches will be wrapping up at 4 pm, so sit tight! \n"
   ]
  },
  {
   "cell_type": "markdown",
   "metadata": {},
   "source": [
    "### Extra Practice\n",
    "\n",
    "What does the query look like for this table? \n",
    "\n",
    "\n",
    "productid | quantity | quantityperunit |\n",
    "--- |---| --- |\n",
    "11 | 12 | 1 kg pkg. |\n",
    "42 | 10 | 32 - 1 kg pkgs."
   ]
  },
  {
   "cell_type": "code",
   "execution_count": null,
   "metadata": {},
   "outputs": [],
   "source": []
  },
  {
   "cell_type": "markdown",
   "metadata": {},
   "source": [
    "What are the notes on all the company names where the freight is between `620` and `780`?\n",
    "\n",
    "**(Hint: This requires joining 3 tables.)**"
   ]
  },
  {
   "cell_type": "code",
   "execution_count": null,
   "metadata": {},
   "outputs": [],
   "source": []
  },
  {
   "cell_type": "markdown",
   "metadata": {},
   "source": [
    "What are the addresses of the customers and employees who live in the USA? Alias the customer address as Customer_Address and the employee address as Employee_Address."
   ]
  },
  {
   "cell_type": "code",
   "execution_count": null,
   "metadata": {},
   "outputs": [],
   "source": []
  },
  {
   "cell_type": "markdown",
   "metadata": {},
   "source": [
    "What are the company names and phones that are in both the Customers table and the Suppliers table? List them alphabetically by company name. "
   ]
  },
  {
   "cell_type": "code",
   "execution_count": null,
   "metadata": {},
   "outputs": [],
   "source": []
  },
  {
   "cell_type": "markdown",
   "metadata": {},
   "source": [
    "What is the description for the product `Louisiana Hot Spiced Okra`? What is the category name? "
   ]
  },
  {
   "cell_type": "code",
   "execution_count": null,
   "metadata": {},
   "outputs": [],
   "source": []
  },
  {
   "cell_type": "markdown",
   "metadata": {},
   "source": [
    "Create a table of your choice with an ID as a `primary key` and at least two `varchar` attributes. Copy the contents of the `Shippers` table in there and add a column called `Address`. Delete the `Phone` column. \n",
    "\n",
    "\n",
    "Check the `information_schema` to see if your table exists there. "
   ]
  },
  {
   "cell_type": "code",
   "execution_count": null,
   "metadata": {},
   "outputs": [],
   "source": []
  },
  {
   "cell_type": "code",
   "execution_count": null,
   "metadata": {},
   "outputs": [],
   "source": []
  }
 ],
 "metadata": {
  "kernelspec": {
   "display_name": "PostgreSQL",
   "language": "postgresql",
   "name": "postgres"
  },
  "language_info": {
   "codemirror_mode": "sql",
   "file_extension": ".sql",
   "mimetype": "text/x-postgresql",
   "name": "PostgreSQL"
  }
 },
 "nbformat": 4,
 "nbformat_minor": 2
}
